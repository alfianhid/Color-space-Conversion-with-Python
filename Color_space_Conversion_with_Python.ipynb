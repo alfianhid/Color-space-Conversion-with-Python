{
  "nbformat": 4,
  "nbformat_minor": 0,
  "metadata": {
    "colab": {
      "name": "Color space Conversion with Python.ipynb",
      "provenance": [],
      "collapsed_sections": [],
      "authorship_tag": "ABX9TyPde0ZoFakUQp+QRjWTRax7",
      "include_colab_link": true
    },
    "kernelspec": {
      "name": "python3",
      "display_name": "Python 3"
    }
  },
  "cells": [
    {
      "cell_type": "markdown",
      "metadata": {
        "id": "view-in-github",
        "colab_type": "text"
      },
      "source": [
        "<a href=\"https://colab.research.google.com/github/alfianhid/Color-space-Conversion-with-Python/blob/main/Color_space_Conversion_with_Python.ipynb\" target=\"_parent\"><img src=\"https://colab.research.google.com/assets/colab-badge.svg\" alt=\"Open In Colab\"/></a>"
      ]
    },
    {
      "cell_type": "markdown",
      "metadata": {
        "id": "Il6tWO_Ge3aB"
      },
      "source": [
        "**Pertama, kita buat dulu fungsi konversi untuk RGB to CMY supaya lebih memudahkan dalam iterasi**"
      ]
    },
    {
      "cell_type": "code",
      "metadata": {
        "id": "v_foIu0xehwh"
      },
      "source": [
        "rgb_scale = 255 # inisialisasi skala nilai untuk mode RGB\n",
        "\n",
        "def rgb_to_cmy(r, g, b):\n",
        "  if (r, g, b) > (255, 255, 255): # hanya digunakan untuk validasi data supaya program menjadi lebih baik\n",
        "    print(\"Maaf, skala RGB yang digunakan hanya antara 0 sampai dengan 255. Silakan coba lagi :)\")\n",
        "    return None\n",
        "  elif (r, g, b) < (0, 0, 0):\n",
        "    print(\"Maaf, skala RGB yang digunakan hanya antara 0 sampai dengan 255. Silakan coba lagi :)\")\n",
        "    return None\n",
        "\n",
        "  c = rgb_scale - r\n",
        "  m = rgb_scale - g\n",
        "  y = rgb_scale - b\n",
        "\n",
        "  return (c, m, y)"
      ],
      "execution_count": null,
      "outputs": []
    },
    {
      "cell_type": "markdown",
      "metadata": {
        "id": "G_OhET6sipl7"
      },
      "source": [
        "**Selanjutnya, kita tes function RGB to CMY yang telah kita buat tadi**"
      ]
    },
    {
      "cell_type": "code",
      "metadata": {
        "id": "Bx5ljuUvi3M-",
        "colab": {
          "base_uri": "https://localhost:8080/",
          "height": 34
        },
        "outputId": "9faf2b72-dff0-48ce-9720-93c994b0db6f"
      },
      "source": [
        "rgb_to_cmy(255, 255, 255)"
      ],
      "execution_count": null,
      "outputs": [
        {
          "output_type": "execute_result",
          "data": {
            "text/plain": [
              "(0, 0, 0)"
            ]
          },
          "metadata": {
            "tags": []
          },
          "execution_count": 2
        }
      ]
    },
    {
      "cell_type": "code",
      "metadata": {
        "id": "OPAg_bcNjEH6",
        "colab": {
          "base_uri": "https://localhost:8080/",
          "height": 34
        },
        "outputId": "37775cd5-aca0-4d56-f0c9-e3a076ef279a"
      },
      "source": [
        "rgb_to_cmy(0, 0, 0)"
      ],
      "execution_count": null,
      "outputs": [
        {
          "output_type": "execute_result",
          "data": {
            "text/plain": [
              "(255, 255, 255)"
            ]
          },
          "metadata": {
            "tags": []
          },
          "execution_count": 3
        }
      ]
    },
    {
      "cell_type": "code",
      "metadata": {
        "id": "Bb31zS_9oZnK",
        "colab": {
          "base_uri": "https://localhost:8080/",
          "height": 34
        },
        "outputId": "824577a2-6388-42ce-f45d-92228568df90"
      },
      "source": [
        "# uji validasi dengan data di luar yang sebenarnya\n",
        "rgb_to_cmy(256, 256, 256)"
      ],
      "execution_count": null,
      "outputs": [
        {
          "output_type": "stream",
          "text": [
            "Maaf, skala RGB yang digunakan hanya antara 0 sampai dengan 255. Silakan coba lagi :)\n"
          ],
          "name": "stdout"
        }
      ]
    },
    {
      "cell_type": "code",
      "metadata": {
        "id": "_5KUn1q2o9u1",
        "colab": {
          "base_uri": "https://localhost:8080/",
          "height": 34
        },
        "outputId": "5d7382b0-4fde-4767-a0cd-213d0542254b"
      },
      "source": [
        "# uji validasi dengan data di luar yang sebenarnya\n",
        "rgb_to_cmy(-1, -1, -1)"
      ],
      "execution_count": null,
      "outputs": [
        {
          "output_type": "stream",
          "text": [
            "Maaf, skala RGB yang digunakan hanya antara 0 sampai dengan 255. Silakan coba lagi :)\n"
          ],
          "name": "stdout"
        }
      ]
    },
    {
      "cell_type": "markdown",
      "metadata": {
        "id": "Cclm7RxjjX1x"
      },
      "source": [
        "**Kedua, kita buat fungsi konversi RGB to Grayscale**"
      ]
    },
    {
      "cell_type": "code",
      "metadata": {
        "id": "i2LllYaIjgoi"
      },
      "source": [
        "r_grayscale = 0.2989 # inisialisai nilai untuk digunakan dalam rumus fungsi\n",
        "g_grayscale = 0.5879 # inisialisai nilai untuk digunakan dalam rumus fungsi\n",
        "b_grayscale = 0.1141 # inisialisai nilai untuk digunakan dalam rumus fungsi\n",
        "\n",
        "def rgb_to_grayscale(r, g, b):\n",
        "  if (r, g, b) > (255, 255, 255): # hanya digunakan untuk validasi data supaya program menjadi lebih baik\n",
        "    print(\"Maaf, skala RGB yang digunakan hanya antara 0 sampai dengan 255. Silakan coba lagi :)\")\n",
        "    return None\n",
        "  elif (r, g, b) < (0, 0, 0):\n",
        "    print(\"Maaf, skala RGB yang digunakan hanya antara 0 sampai dengan 255. Silakan coba lagi :)\")\n",
        "    return None\n",
        "\n",
        "  grayscale = (r_grayscale * r) + (g_grayscale * g) + (b_grayscale * b)\n",
        "  \n",
        "  return grayscale"
      ],
      "execution_count": null,
      "outputs": []
    },
    {
      "cell_type": "markdown",
      "metadata": {
        "id": "g9BfBe9MkeSh"
      },
      "source": [
        "**Selanjutnya, kita tes function RGB to Grayscale yang telah kita buat tadi**"
      ]
    },
    {
      "cell_type": "code",
      "metadata": {
        "id": "NYJ6DPH1kncv",
        "colab": {
          "base_uri": "https://localhost:8080/",
          "height": 34
        },
        "outputId": "5fc49921-11e4-49d5-8f44-a5fcf8abcd61"
      },
      "source": [
        "rgb_to_grayscale(0, 0, 0)"
      ],
      "execution_count": null,
      "outputs": [
        {
          "output_type": "execute_result",
          "data": {
            "text/plain": [
              "0.0"
            ]
          },
          "metadata": {
            "tags": []
          },
          "execution_count": 5
        }
      ]
    },
    {
      "cell_type": "code",
      "metadata": {
        "id": "pzwbUFWXkw2M",
        "colab": {
          "base_uri": "https://localhost:8080/",
          "height": 34
        },
        "outputId": "2710d9fc-db9b-4b5d-91cd-f8a678257cfb"
      },
      "source": [
        "rgb_to_grayscale(255, 255, 255)"
      ],
      "execution_count": null,
      "outputs": [
        {
          "output_type": "execute_result",
          "data": {
            "text/plain": [
              "255.2295"
            ]
          },
          "metadata": {
            "tags": []
          },
          "execution_count": 6
        }
      ]
    },
    {
      "cell_type": "code",
      "metadata": {
        "id": "AahqZxVipeHW",
        "colab": {
          "base_uri": "https://localhost:8080/",
          "height": 34
        },
        "outputId": "d02f7ea4-9d67-4fd5-e738-cf2124a34f12"
      },
      "source": [
        "# uji validasi dengan data di luar yang sebenarnya\n",
        "rgb_to_grayscale(256, 256, 256)"
      ],
      "execution_count": null,
      "outputs": [
        {
          "output_type": "stream",
          "text": [
            "Maaf, skala RGB yang digunakan hanya antara 0 sampai dengan 255. Silakan coba lagi :)\n"
          ],
          "name": "stdout"
        }
      ]
    },
    {
      "cell_type": "code",
      "metadata": {
        "id": "MsvtR082pdnl",
        "colab": {
          "base_uri": "https://localhost:8080/",
          "height": 34
        },
        "outputId": "a445e074-79fc-4f19-8394-50f2d5dbb607"
      },
      "source": [
        "# uji validasi dengan data di luar yang sebenarnya\n",
        "rgb_to_grayscale(-1, -1, -1)"
      ],
      "execution_count": null,
      "outputs": [
        {
          "output_type": "stream",
          "text": [
            "Maaf, skala RGB yang digunakan hanya antara 0 sampai dengan 255. Silakan coba lagi :)\n"
          ],
          "name": "stdout"
        }
      ]
    },
    {
      "cell_type": "markdown",
      "metadata": {
        "id": "BVy76VVNlBIt"
      },
      "source": [
        "**Ketiga, kita buat fungsi konversi RGB to Binary**"
      ]
    },
    {
      "cell_type": "code",
      "metadata": {
        "id": "K__tB4c8lJ4Q"
      },
      "source": [
        "threshold_val = 128 # inisialisai nilai untuk digunakan dalam rumus fungsi\n",
        "\n",
        "def rgb_to_binary(r, g, b):\n",
        "  if (r, g, b) > (255, 255, 255): # hanya digunakan untuk validasi data supaya program menjadi lebih baik\n",
        "    print(\"Maaf, skala RGB yang digunakan hanya antara 0 sampai dengan 255. Silakan coba lagi :)\")\n",
        "    return None\n",
        "  elif (r, g, b) < (0, 0, 0):\n",
        "    print(\"Maaf, skala RGB yang digunakan hanya antara 0 sampai dengan 255. Silakan coba lagi :)\")\n",
        "    return None  \n",
        "\n",
        "  num_list = [r, g, b]\n",
        "  average_val = sum(num_list) / len(num_list)\n",
        "\n",
        "  if(average_val > threshold_val):\n",
        "    binary_val = 1\n",
        "  else:\n",
        "    binary_val = 0\n",
        "  \n",
        "  return binary_val"
      ],
      "execution_count": null,
      "outputs": []
    },
    {
      "cell_type": "markdown",
      "metadata": {
        "id": "qC9Tacahnja0"
      },
      "source": [
        "**Selanjutnya, kita tes fungsi RGB to Binary yang telah kita buat tadi**"
      ]
    },
    {
      "cell_type": "code",
      "metadata": {
        "id": "g-RsCF2snieT",
        "colab": {
          "base_uri": "https://localhost:8080/",
          "height": 34
        },
        "outputId": "c9f46259-1415-4129-db4d-d73cad50f592"
      },
      "source": [
        "rgb_to_binary(0, 0, 0)"
      ],
      "execution_count": null,
      "outputs": [
        {
          "output_type": "execute_result",
          "data": {
            "text/plain": [
              "0"
            ]
          },
          "metadata": {
            "tags": []
          },
          "execution_count": 9
        }
      ]
    },
    {
      "cell_type": "code",
      "metadata": {
        "id": "z3NsdHkin-Um",
        "colab": {
          "base_uri": "https://localhost:8080/",
          "height": 34
        },
        "outputId": "10efb660-7b02-4bb2-cd1b-a88fac3d461b"
      },
      "source": [
        "rgb_to_binary(255, 255, 255)"
      ],
      "execution_count": null,
      "outputs": [
        {
          "output_type": "execute_result",
          "data": {
            "text/plain": [
              "1"
            ]
          },
          "metadata": {
            "tags": []
          },
          "execution_count": 10
        }
      ]
    },
    {
      "cell_type": "code",
      "metadata": {
        "id": "lJ4PkgRzp2NW",
        "colab": {
          "base_uri": "https://localhost:8080/",
          "height": 34
        },
        "outputId": "efa95137-727b-486b-b07d-eef59ff35bd3"
      },
      "source": [
        "# uji validasi dengan data di luar yang sebenarnya\n",
        "rgb_to_binary(256, 256, 256)"
      ],
      "execution_count": null,
      "outputs": [
        {
          "output_type": "stream",
          "text": [
            "Maaf, skala RGB yang digunakan hanya antara 0 sampai dengan 255. Silakan coba lagi :)\n"
          ],
          "name": "stdout"
        }
      ]
    },
    {
      "cell_type": "code",
      "metadata": {
        "id": "AMonJdNXp17Q",
        "colab": {
          "base_uri": "https://localhost:8080/",
          "height": 34
        },
        "outputId": "73b392b5-a6e0-4efb-cea4-df10b57bd75d"
      },
      "source": [
        "# uji validasi dengan data di luar yang sebenarnya\n",
        "rgb_to_binary(-1, -1, -1)"
      ],
      "execution_count": null,
      "outputs": [
        {
          "output_type": "stream",
          "text": [
            "Maaf, skala RGB yang digunakan hanya antara 0 sampai dengan 255. Silakan coba lagi :)\n"
          ],
          "name": "stdout"
        }
      ]
    },
    {
      "cell_type": "markdown",
      "metadata": {
        "id": "XejE5G9dquOJ"
      },
      "source": [
        "**Keempat, kita buat fungsi konversi CMY to RGB**"
      ]
    },
    {
      "cell_type": "code",
      "metadata": {
        "id": "No7EEy8Bqteq"
      },
      "source": [
        "rgb_scale = 255 # inisialisasi skala nilai untuk mode RGB\n",
        "\n",
        "def cmy_to_rgb(c, m, y):\n",
        "  if (c, m, y) > (255, 255, 255): # hanya digunakan untuk validasi data supaya program menjadi lebih baik\n",
        "    print(\"Maaf, skala CMY yang digunakan hanya antara 0 sampai dengan 255. Silakan coba lagi :)\")\n",
        "    return None\n",
        "  elif (c, m, y) < (0, 0, 0):\n",
        "    print(\"Maaf, skala RGB yang digunakan hanya antara 0 sampai dengan 255. Silakan coba lagi :)\")\n",
        "    return None\n",
        "\n",
        "  r = c + ((rgb_scale - c) - c)\n",
        "  g = m + ((rgb_scale - m) - m)\n",
        "  b = y + ((rgb_scale - y) - y)\n",
        "\n",
        "  return (r, g, b)"
      ],
      "execution_count": null,
      "outputs": []
    },
    {
      "cell_type": "markdown",
      "metadata": {
        "id": "pDxYpaY9sOia"
      },
      "source": [
        "**Selanjutnya, kita tes fungsi CMY to RGB yang telah kita buat tadi**"
      ]
    },
    {
      "cell_type": "code",
      "metadata": {
        "id": "Z9DYanVDsR1K",
        "colab": {
          "base_uri": "https://localhost:8080/",
          "height": 34
        },
        "outputId": "4c8580f4-2c3d-4834-a060-47633047e031"
      },
      "source": [
        "cmy_to_rgb(0, 0, 0)"
      ],
      "execution_count": null,
      "outputs": [
        {
          "output_type": "execute_result",
          "data": {
            "text/plain": [
              "(255, 255, 255)"
            ]
          },
          "metadata": {
            "tags": []
          },
          "execution_count": 39
        }
      ]
    },
    {
      "cell_type": "code",
      "metadata": {
        "id": "xHESZkMGsW8b",
        "colab": {
          "base_uri": "https://localhost:8080/",
          "height": 34
        },
        "outputId": "5dc60f93-56f2-40b1-b1a4-56a9f91321b5"
      },
      "source": [
        "cmy_to_rgb(255, 255, 255)"
      ],
      "execution_count": null,
      "outputs": [
        {
          "output_type": "execute_result",
          "data": {
            "text/plain": [
              "(0, 0, 0)"
            ]
          },
          "metadata": {
            "tags": []
          },
          "execution_count": 42
        }
      ]
    },
    {
      "cell_type": "code",
      "metadata": {
        "id": "uopJl5lItfRx",
        "colab": {
          "base_uri": "https://localhost:8080/",
          "height": 34
        },
        "outputId": "323ef811-5cbf-488e-d248-d1a069b7e540"
      },
      "source": [
        "# uji validasi dengan data di luar yang sebenarnya\n",
        "cmy_to_rgb(256, 256, 256)"
      ],
      "execution_count": null,
      "outputs": [
        {
          "output_type": "stream",
          "text": [
            "Maaf, skala CMY yang digunakan hanya antara 0 sampai dengan 255. Silakan coba lagi :)\n"
          ],
          "name": "stdout"
        }
      ]
    },
    {
      "cell_type": "code",
      "metadata": {
        "id": "i22s3yAUtko5",
        "colab": {
          "base_uri": "https://localhost:8080/",
          "height": 34
        },
        "outputId": "c238ece8-fbd9-4383-9c1b-ff41d0d3fb22"
      },
      "source": [
        "# uji validasi dengan data di luar yang sebenarnya\n",
        "cmy_to_rgb(-1, -1, -1)"
      ],
      "execution_count": null,
      "outputs": [
        {
          "output_type": "stream",
          "text": [
            "Maaf, skala RGB yang digunakan hanya antara 0 sampai dengan 255. Silakan coba lagi :)\n"
          ],
          "name": "stdout"
        }
      ]
    },
    {
      "cell_type": "markdown",
      "metadata": {
        "id": "bFVl5mOVtqWV"
      },
      "source": [
        "**Kelima, kita buat fungsi konversi CMY to Grayscale**"
      ]
    },
    {
      "cell_type": "code",
      "metadata": {
        "id": "64HkQNn2t0sW"
      },
      "source": [
        "rgb_scale = 255 # inisialisai nilai untuk digunakan dalam rumus fungsi\n",
        "r_grayscale = 0.2989 # inisialisai nilai untuk digunakan dalam rumus fungsi\n",
        "g_grayscale = 0.5879 # inisialisai nilai untuk digunakan dalam rumus fungsi\n",
        "b_grayscale = 0.1141 # inisialisai nilai untuk digunakan dalam rumus fungsi\n",
        "\n",
        "def cmy_to_grayscale(c, m, y):\n",
        "  if (c, m, y) > (255, 255, 255): # hanya digunakan untuk validasi data supaya program menjadi lebih baik\n",
        "    print(\"Maaf, skala CMY yang digunakan hanya antara 0 sampai dengan 255. Silakan coba lagi :)\")\n",
        "    return None\n",
        "  elif (c, m, y) < (0, 0, 0):\n",
        "    print(\"Maaf, skala CMY yang digunakan hanya antara 0 sampai dengan 255. Silakan coba lagi :)\")\n",
        "    return None\n",
        "\n",
        "  # dilakukan konversi ke RGB dulu, karena skala RGB = skala CMY (bukan nilainya lho ya)\n",
        "  c = c + ((rgb_scale - c) - c)\n",
        "  m = m + ((rgb_scale - m) - m)\n",
        "  y = y + ((rgb_scale - y) - y)\n",
        "\n",
        "  grayscale = (r_grayscale * c) + (g_grayscale * m) + (b_grayscale * y)\n",
        "  \n",
        "  return grayscale"
      ],
      "execution_count": null,
      "outputs": []
    },
    {
      "cell_type": "markdown",
      "metadata": {
        "id": "n2xZM5SLweto"
      },
      "source": [
        "**Selanjutnya, kita tes fungsi CMY to Grayscale yang telah kita buat tadi**"
      ]
    },
    {
      "cell_type": "code",
      "metadata": {
        "id": "RpZJVEMTytLh",
        "colab": {
          "base_uri": "https://localhost:8080/",
          "height": 34
        },
        "outputId": "5056831b-9dce-4caa-c3dc-1cf25cd24d1a"
      },
      "source": [
        "cmy_to_grayscale(0, 0, 0)"
      ],
      "execution_count": null,
      "outputs": [
        {
          "output_type": "execute_result",
          "data": {
            "text/plain": [
              "255.2295"
            ]
          },
          "metadata": {
            "tags": []
          },
          "execution_count": 47
        }
      ]
    },
    {
      "cell_type": "code",
      "metadata": {
        "id": "H3yGBeUny8my",
        "colab": {
          "base_uri": "https://localhost:8080/",
          "height": 34
        },
        "outputId": "1f17eb4b-6682-4032-cc50-029658ef808f"
      },
      "source": [
        "cmy_to_grayscale(255, 255, 255)"
      ],
      "execution_count": null,
      "outputs": [
        {
          "output_type": "execute_result",
          "data": {
            "text/plain": [
              "0.0"
            ]
          },
          "metadata": {
            "tags": []
          },
          "execution_count": 48
        }
      ]
    },
    {
      "cell_type": "code",
      "metadata": {
        "id": "blT_EGxHzApj",
        "colab": {
          "base_uri": "https://localhost:8080/",
          "height": 34
        },
        "outputId": "008b103b-bcfc-4de9-e0a4-c38605d9a4d5"
      },
      "source": [
        "# uji validasi dengan data di luar yang sebenarnya\n",
        "cmy_to_grayscale(256, 256, 256)"
      ],
      "execution_count": null,
      "outputs": [
        {
          "output_type": "stream",
          "text": [
            "Maaf, skala CMY yang digunakan hanya antara 0 sampai dengan 255. Silakan coba lagi :)\n"
          ],
          "name": "stdout"
        }
      ]
    },
    {
      "cell_type": "code",
      "metadata": {
        "id": "4hhV3oNtzE1x",
        "colab": {
          "base_uri": "https://localhost:8080/",
          "height": 34
        },
        "outputId": "5830f305-112e-4138-8a93-5269969caca9"
      },
      "source": [
        "# uji validasi dengan data di luar yang sebenarnya\n",
        "cmy_to_grayscale(-1, -1, -1)"
      ],
      "execution_count": null,
      "outputs": [
        {
          "output_type": "stream",
          "text": [
            "Maaf, skala CMY yang digunakan hanya antara 0 sampai dengan 255. Silakan coba lagi :)\n"
          ],
          "name": "stdout"
        }
      ]
    },
    {
      "cell_type": "markdown",
      "metadata": {
        "id": "WCeJgmbAzI8T"
      },
      "source": [
        "**Keenam, kita buat fungsi konversi CMY to Binary**"
      ]
    },
    {
      "cell_type": "code",
      "metadata": {
        "id": "B22oe93IzXQb"
      },
      "source": [
        "rgb_scale = 255 # inisialisai nilai untuk digunakan dalam rumus fungsi\n",
        "threshold_val = 128 # inisialisai nilai untuk digunakan dalam rumus fungsi\n",
        "\n",
        "def cmy_to_binary(c, m, y):\n",
        "  if (c, m, y) > (255, 255, 255): # hanya digunakan untuk validasi data supaya program menjadi lebih baik\n",
        "    print(\"Maaf, skala CMY yang digunakan hanya antara 0 sampai dengan 255. Silakan coba lagi :)\")\n",
        "    return None\n",
        "  elif (c, m, y) < (0, 0, 0):\n",
        "    print(\"Maaf, skala CMY yang digunakan hanya antara 0 sampai dengan 255. Silakan coba lagi :)\")\n",
        "    return None  \n",
        "\n",
        "  # dilakukan konversi ke RGB dulu, karena skala RGB = skala CMY (bukan nilainya lho ya)\n",
        "  c = c + ((rgb_scale - c) - c)\n",
        "  m = m + ((rgb_scale - m) - m)\n",
        "  y = y + ((rgb_scale - y) - y)\n",
        "\n",
        "  num_list = [c, m, y]\n",
        "  average_val = sum(num_list) / len(num_list)\n",
        "\n",
        "  if(average_val > threshold_val):\n",
        "    binary_val = 1\n",
        "  else:\n",
        "    binary_val = 0\n",
        "  \n",
        "  return binary_val"
      ],
      "execution_count": null,
      "outputs": []
    },
    {
      "cell_type": "markdown",
      "metadata": {
        "id": "N4gOno60z1lx"
      },
      "source": [
        "**Selanjutnya, kita tes fungsi CMY to Grayscale yang telah kita buat tadi**"
      ]
    },
    {
      "cell_type": "code",
      "metadata": {
        "id": "VpOeMRRez2oQ",
        "colab": {
          "base_uri": "https://localhost:8080/",
          "height": 34
        },
        "outputId": "8c7fedc6-168a-49a6-a4eb-d328e843ef45"
      },
      "source": [
        "cmy_to_binary(0, 0, 0)"
      ],
      "execution_count": null,
      "outputs": [
        {
          "output_type": "execute_result",
          "data": {
            "text/plain": [
              "1"
            ]
          },
          "metadata": {
            "tags": []
          },
          "execution_count": 54
        }
      ]
    },
    {
      "cell_type": "code",
      "metadata": {
        "id": "r6PY5cDX0GLW",
        "colab": {
          "base_uri": "https://localhost:8080/",
          "height": 34
        },
        "outputId": "2d754502-ce9e-4651-b646-39a68cbe4a5c"
      },
      "source": [
        "cmy_to_binary(255, 255, 255)"
      ],
      "execution_count": null,
      "outputs": [
        {
          "output_type": "execute_result",
          "data": {
            "text/plain": [
              "0"
            ]
          },
          "metadata": {
            "tags": []
          },
          "execution_count": 55
        }
      ]
    },
    {
      "cell_type": "code",
      "metadata": {
        "id": "PIu5GaMD0OfZ",
        "colab": {
          "base_uri": "https://localhost:8080/",
          "height": 34
        },
        "outputId": "e3c7d7a3-53d6-461c-99f4-5928f7d9e20b"
      },
      "source": [
        "# uji validasi dengan data di luar yang sebenarnya\n",
        "cmy_to_binary(256, 256, 256)"
      ],
      "execution_count": null,
      "outputs": [
        {
          "output_type": "stream",
          "text": [
            "Maaf, skala RGB yang digunakan hanya antara 0 sampai dengan 255. Silakan coba lagi :)\n"
          ],
          "name": "stdout"
        }
      ]
    },
    {
      "cell_type": "markdown",
      "metadata": {
        "id": "5ynhE1is0auE"
      },
      "source": [
        "**Ketujuh, kita buat fungsi konversi Grayscale to RGB**"
      ]
    },
    {
      "cell_type": "code",
      "metadata": {
        "id": "FOtmHpa70aDM"
      },
      "source": [
        "# fungsi konversi di bawah menggunakan rumus/formula yang keakuratannya tidak teruji,\n",
        "# jadi sangat tidak direkomendasikan menggunakan rumus ini untuk riset/penelitian\n",
        "\n",
        "def grayscale_to_rgb(grayscale):\n",
        "  if grayscale > 255: # hanya digunakan untuk validasi data supaya program menjadi lebih baik\n",
        "    print(\"Maaf, skala Grayscale yang digunakan hanya antara 0 sampai dengan 255. Silakan coba lagi :)\")\n",
        "    return None\n",
        "  elif grayscale < 0:\n",
        "    print(\"Maaf, skala Grayscale yang digunakan hanya antara 0 sampai dengan 255. Silakan coba lagi :)\")\n",
        "    return None\n",
        "\n",
        "  r = grayscale\n",
        "  g = grayscale\n",
        "  b = grayscale \n",
        "\n",
        "  return (r, g, b)"
      ],
      "execution_count": null,
      "outputs": []
    },
    {
      "cell_type": "markdown",
      "metadata": {
        "id": "Fu7_VWj25AUc"
      },
      "source": [
        "**Selanjutnya, kita tes fungsi Grayscale to RGB yang telah kita buat tadi**"
      ]
    },
    {
      "cell_type": "code",
      "metadata": {
        "id": "NVI1Wimr5GEO",
        "colab": {
          "base_uri": "https://localhost:8080/",
          "height": 34
        },
        "outputId": "50e08149-4650-497b-9de2-1fcc9a2c4997"
      },
      "source": [
        "grayscale_to_rgb(0)"
      ],
      "execution_count": null,
      "outputs": [
        {
          "output_type": "execute_result",
          "data": {
            "text/plain": [
              "(0, 0, 0)"
            ]
          },
          "metadata": {
            "tags": []
          },
          "execution_count": 61
        }
      ]
    },
    {
      "cell_type": "code",
      "metadata": {
        "id": "_yHVwvgk5NfM",
        "colab": {
          "base_uri": "https://localhost:8080/",
          "height": 34
        },
        "outputId": "20d6e918-8778-45f5-8884-7be4802cb365"
      },
      "source": [
        "grayscale_to_rgb(255)"
      ],
      "execution_count": null,
      "outputs": [
        {
          "output_type": "execute_result",
          "data": {
            "text/plain": [
              "(255, 255, 255)"
            ]
          },
          "metadata": {
            "tags": []
          },
          "execution_count": 62
        }
      ]
    },
    {
      "cell_type": "code",
      "metadata": {
        "id": "Wvg0EzBt5Q0A",
        "colab": {
          "base_uri": "https://localhost:8080/",
          "height": 34
        },
        "outputId": "c2117149-c2a5-4b04-f506-ae89ebf6cf1d"
      },
      "source": [
        "# uji validasi dengan data di luar yang sebenarnya\n",
        "grayscale_to_rgb(256)"
      ],
      "execution_count": null,
      "outputs": [
        {
          "output_type": "stream",
          "text": [
            "Maaf, skala Grayscale yang digunakan hanya antara 0 sampai dengan 255. Silakan coba lagi :)\n"
          ],
          "name": "stdout"
        }
      ]
    },
    {
      "cell_type": "code",
      "metadata": {
        "id": "ZU7BxrNn5TiH",
        "colab": {
          "base_uri": "https://localhost:8080/",
          "height": 34
        },
        "outputId": "462946f0-b44f-4c5a-ea16-0c5f42a97416"
      },
      "source": [
        "# uji validasi dengan data di luar yang sebenarnya\n",
        "grayscale_to_rgb(-1)"
      ],
      "execution_count": null,
      "outputs": [
        {
          "output_type": "stream",
          "text": [
            "Maaf, skala Grayscale yang digunakan hanya antara 0 sampai dengan 255. Silakan coba lagi :)\n"
          ],
          "name": "stdout"
        }
      ]
    },
    {
      "cell_type": "markdown",
      "metadata": {
        "id": "ePmP1CeT5Yeg"
      },
      "source": [
        "**Kedelapan, kita buat fungsi konversi Grayscale to CMY**"
      ]
    },
    {
      "cell_type": "code",
      "metadata": {
        "id": "IYgbTAOc5cER"
      },
      "source": [
        "# fungsi konversi di bawah menggunakan rumus/formula yang keakuratannya tidak teruji,\n",
        "# jadi sangat tidak direkomendasikan menggunakan rumus ini untuk riset/penelitian\n",
        "rgb_scale = 255\n",
        "\n",
        "def grayscale_to_cmy(grayscale):\n",
        "  if grayscale > 255: # hanya digunakan untuk validasi data supaya program menjadi lebih baik\n",
        "    print(\"Maaf, skala Grayscale yang digunakan hanya antara 0 sampai dengan 255. Silakan coba lagi :)\")\n",
        "    return None\n",
        "  elif grayscale < 0:\n",
        "    print(\"Maaf, skala Grayscale yang digunakan hanya antara 0 sampai dengan 255. Silakan coba lagi :)\")\n",
        "    return None\n",
        "\n",
        "  c = rgb_scale - grayscale\n",
        "  m = rgb_scale - grayscale\n",
        "  y = rgb_scale - grayscale\n",
        "\n",
        "  return (c, m, y)"
      ],
      "execution_count": null,
      "outputs": []
    },
    {
      "cell_type": "markdown",
      "metadata": {
        "id": "ZkLTNG9Q6Swr"
      },
      "source": [
        "**Selanjutnya, kita tes fungsi Grayscale to CMY yang telah kita buat tadi**"
      ]
    },
    {
      "cell_type": "code",
      "metadata": {
        "id": "j8ztpOWP6VTx",
        "colab": {
          "base_uri": "https://localhost:8080/",
          "height": 34
        },
        "outputId": "35a529a3-c021-4e9d-8d8f-95cdc946bbf1"
      },
      "source": [
        "grayscale_to_cmy(255)"
      ],
      "execution_count": null,
      "outputs": [
        {
          "output_type": "execute_result",
          "data": {
            "text/plain": [
              "(0, 0, 0)"
            ]
          },
          "metadata": {
            "tags": []
          },
          "execution_count": 66
        }
      ]
    },
    {
      "cell_type": "code",
      "metadata": {
        "id": "DBGRuqj36a5X",
        "colab": {
          "base_uri": "https://localhost:8080/",
          "height": 34
        },
        "outputId": "fa268fa5-b678-4773-9a81-788278e8839d"
      },
      "source": [
        "grayscale_to_cmy(0)"
      ],
      "execution_count": null,
      "outputs": [
        {
          "output_type": "execute_result",
          "data": {
            "text/plain": [
              "(255, 255, 255)"
            ]
          },
          "metadata": {
            "tags": []
          },
          "execution_count": 67
        }
      ]
    },
    {
      "cell_type": "code",
      "metadata": {
        "id": "7d9PW_eB6lpr",
        "colab": {
          "base_uri": "https://localhost:8080/",
          "height": 34
        },
        "outputId": "2d05c8b0-acf9-474f-8de0-9ad79e091535"
      },
      "source": [
        "# uji validasi dengan data di luar yang sebenarnya\n",
        "grayscale_to_cmy(256)"
      ],
      "execution_count": null,
      "outputs": [
        {
          "output_type": "stream",
          "text": [
            "Maaf, skala Grayscale yang digunakan hanya antara 0 sampai dengan 255. Silakan coba lagi :)\n"
          ],
          "name": "stdout"
        }
      ]
    },
    {
      "cell_type": "code",
      "metadata": {
        "id": "O9mSAqon6ofj",
        "colab": {
          "base_uri": "https://localhost:8080/",
          "height": 34
        },
        "outputId": "f9f35b43-1e00-4ffa-81f5-b31f48fb3945"
      },
      "source": [
        "# uji validasi dengan data di luar yang sebenarnya\n",
        "grayscale_to_cmy(-1)"
      ],
      "execution_count": null,
      "outputs": [
        {
          "output_type": "stream",
          "text": [
            "Maaf, skala Grayscale yang digunakan hanya antara 0 sampai dengan 255. Silakan coba lagi :)\n"
          ],
          "name": "stdout"
        }
      ]
    },
    {
      "cell_type": "markdown",
      "metadata": {
        "id": "AuP9dPnS6re6"
      },
      "source": [
        "**Kesembilan, kita buat fungsi konversi Grayscale to Binary**"
      ]
    },
    {
      "cell_type": "code",
      "metadata": {
        "id": "_05US74064-q"
      },
      "source": [
        "threshold_val = 128 # inisialisai nilai untuk digunakan dalam rumus fungsi\n",
        "\n",
        "def grayscale_to_binary(grayscale):\n",
        "  if grayscale > 255: # hanya digunakan untuk validasi data supaya program menjadi lebih baik\n",
        "    print(\"Maaf, skala Grayscale yang digunakan hanya antara 0 sampai dengan 255. Silakan coba lagi :)\")\n",
        "    return None\n",
        "  elif grayscale < 0:\n",
        "    print(\"Maaf, skala Grayscale yang digunakan hanya antara 0 sampai dengan 255. Silakan coba lagi :)\")\n",
        "    return None  \n",
        "\n",
        "  if(grayscale > threshold_val):\n",
        "    binary_val = 1\n",
        "  else:\n",
        "    binary_val = 0\n",
        "  \n",
        "  return binary_val"
      ],
      "execution_count": null,
      "outputs": []
    },
    {
      "cell_type": "markdown",
      "metadata": {
        "id": "1ZuaGjbw7aTw"
      },
      "source": [
        "**Selanjutnya, kita tes fungsi Grayscale to Binary yang telah kita buat tadi**"
      ]
    },
    {
      "cell_type": "code",
      "metadata": {
        "id": "zJer-WI-7fCv",
        "colab": {
          "base_uri": "https://localhost:8080/",
          "height": 34
        },
        "outputId": "312c3eb2-629e-44b2-cc5a-01f1c2f7ec1c"
      },
      "source": [
        "grayscale_to_binary(255)"
      ],
      "execution_count": null,
      "outputs": [
        {
          "output_type": "execute_result",
          "data": {
            "text/plain": [
              "1"
            ]
          },
          "metadata": {
            "tags": []
          },
          "execution_count": 71
        }
      ]
    },
    {
      "cell_type": "code",
      "metadata": {
        "id": "VjA9tQY97iGq",
        "colab": {
          "base_uri": "https://localhost:8080/",
          "height": 34
        },
        "outputId": "5da25916-4973-4bc9-bf95-2d67d53b6ca2"
      },
      "source": [
        "grayscale_to_binary(0)"
      ],
      "execution_count": null,
      "outputs": [
        {
          "output_type": "execute_result",
          "data": {
            "text/plain": [
              "0"
            ]
          },
          "metadata": {
            "tags": []
          },
          "execution_count": 72
        }
      ]
    },
    {
      "cell_type": "code",
      "metadata": {
        "id": "6Ps6qS3g7lXt",
        "colab": {
          "base_uri": "https://localhost:8080/",
          "height": 34
        },
        "outputId": "a05d57f5-aba1-4c26-c3eb-e64e2008d4f2"
      },
      "source": [
        "# uji validasi dengan data di luar yang sebenarnya\n",
        "grayscale_to_binary(256)"
      ],
      "execution_count": null,
      "outputs": [
        {
          "output_type": "stream",
          "text": [
            "Maaf, skala Grayscale yang digunakan hanya antara 0 sampai dengan 255. Silakan coba lagi :)\n"
          ],
          "name": "stdout"
        }
      ]
    },
    {
      "cell_type": "code",
      "metadata": {
        "id": "s8H_qCFa7oCv",
        "colab": {
          "base_uri": "https://localhost:8080/",
          "height": 34
        },
        "outputId": "22f3f16c-8b65-424e-8052-9905197b1a61"
      },
      "source": [
        "# uji validasi dengan data di luar yang sebenarnya\n",
        "grayscale_to_binary(-1)"
      ],
      "execution_count": null,
      "outputs": [
        {
          "output_type": "stream",
          "text": [
            "Maaf, skala Grayscale yang digunakan hanya antara 0 sampai dengan 255. Silakan coba lagi :)\n"
          ],
          "name": "stdout"
        }
      ]
    }
  ]
}